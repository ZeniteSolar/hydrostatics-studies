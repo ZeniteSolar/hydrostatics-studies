{
 "cells": [
  {
   "cell_type": "markdown",
   "id": "italian-campbell",
   "metadata": {},
   "source": [
    "# Initial usage of meshmagick\n",
    "This notebook provides a short intro to meshmagick. Checkout the [API documentation](https://lheea.github.io/meshmagick/api/index.html) "
   ]
  },
  {
   "cell_type": "code",
   "execution_count": 1,
   "id": "rural-collectible",
   "metadata": {},
   "outputs": [],
   "source": [
    "import os\n",
    "from meshmagick import mmio, mesh, hydrostatics"
   ]
  },
  {
   "cell_type": "markdown",
   "id": "challenging-johnston",
   "metadata": {},
   "source": [
    "## 1. Load the geometry file\n",
    "Here we are using `os.getcwd()` because `mmio.load_STL` requires absolute paths."
   ]
  },
  {
   "cell_type": "code",
   "execution_count": 2,
   "id": "composed-watts",
   "metadata": {},
   "outputs": [],
   "source": [
    "path = os.getcwd() + '/models/'\n",
    "file = \"box.stl\"\n",
    "\n",
    "V, F = mmio.load_STL(path + file)"
   ]
  },
  {
   "cell_type": "markdown",
   "id": "collect-chancellor",
   "metadata": {},
   "source": [
    "## 2. Create the mesh object"
   ]
  },
  {
   "cell_type": "code",
   "execution_count": 3,
   "id": "future-christopher",
   "metadata": {},
   "outputs": [
    {
     "name": "stdout",
     "output_type": "stream",
     "text": [
      "Bounding box: (-3.0, 3.0, -3.0, 3.0, -3.0, 3.0)\n"
     ]
    }
   ],
   "source": [
    "mymesh = mesh.Mesh(V, F)\n",
    "print(\"Bounding box:\", mymesh.squared_axis_aligned_bbox)"
   ]
  },
  {
   "cell_type": "markdown",
   "id": "brave-intranet",
   "metadata": {},
   "source": [
    "We can visualize the geometry by calling `Mesh.show()`:"
   ]
  },
  {
   "cell_type": "code",
   "execution_count": 4,
   "id": "compound-agriculture",
   "metadata": {},
   "outputs": [],
   "source": [
    "mymesh.show()"
   ]
  },
  {
   "cell_type": "markdown",
   "id": "acoustic-saudi",
   "metadata": {},
   "source": [
    "Meshmagick provides several functions to fix geometry issues:"
   ]
  },
  {
   "cell_type": "code",
   "execution_count": 5,
   "id": "outer-sheffield",
   "metadata": {},
   "outputs": [],
   "source": [
    "# mymesh.merge_duplicates()\n",
    "# mymesh.triangulate_quadrangles()\n",
    "# mymesh.heal_triangles()\n",
    "# mymesh.remove_unused_vertices()\n",
    "# mymesh.remove_degenerated_faces()\n",
    "# mymesh.heal_normals()\n",
    "# mymesh.heal_mesh()"
   ]
  },
  {
   "cell_type": "markdown",
   "id": "upset-notion",
   "metadata": {},
   "source": [
    "And we can check if the mesh is closed too:"
   ]
  },
  {
   "cell_type": "code",
   "execution_count": 6,
   "id": "intermediate-referral",
   "metadata": {},
   "outputs": [
    {
     "name": "stdout",
     "output_type": "stream",
     "text": [
      "Is it closed? True\n"
     ]
    }
   ],
   "source": [
    "print(\"Is it closed?\", mymesh.is_mesh_closed())"
   ]
  },
  {
   "cell_type": "markdown",
   "id": "geological-smoke",
   "metadata": {},
   "source": [
    "And inspect the mesh quality"
   ]
  },
  {
   "cell_type": "code",
   "execution_count": 7,
   "id": "accepting-collins",
   "metadata": {},
   "outputs": [
    {
     "name": "stdout",
     "output_type": "stream",
     "text": [
      "\n",
      "Triangle quality of the mesh (12 elements):\n",
      "\n",
      " Area Ratio:\n",
      "    range: 0.24  -  3.6\n",
      "    average: 1.68  , standard deviation: 1.47592\n",
      " Edge Ratio:\n",
      "    range: 3.16228  -  15.0333\n",
      "    average: 7.76486  , standard deviation: 5.43124\n",
      " Aspect Ratio:\n",
      "    range: 2.17941  -  8.97843\n",
      "    average: 4.80843  , standard deviation: 3.11449\n",
      " Radius Ratio:\n",
      "    range: 1.88743  -  7.77555\n",
      "    average: 4.16423  , standard deviation: 2.69723\n",
      " Frobenius Norm:\n",
      "    range: 1.9245  -  8.69874\n",
      "    average: 4.54182  , standard deviation: 3.10429\n",
      " Minimal Angle:\n",
      "    range: 3.81407  -  18.4349\n",
      "    average: 11.1863  , standard deviation: 6.23503\n",
      "\n",
      "Quadrilateral quality of the mesh (0 elements):\n",
      "\n",
      " Area Ratio:\n",
      "    range: 0  -  0\n",
      "    average: 0  , standard deviation: 0\n",
      " Edge Ratio:\n",
      "    range: 0  -  0\n",
      "    average: 0  , standard deviation: 0\n",
      " Aspect Ratio:\n",
      "    range: 0  -  0\n",
      "    average: 0  , standard deviation: 0\n",
      " Radius Ratio:\n",
      "    range: 0  -  0\n",
      "    average: 0  , standard deviation: 0\n",
      " Average Frobenius Norm:\n",
      "    range: 0  -  0\n",
      "    average: 0  , standard deviation: 0\n",
      " Maximal Frobenius Norm:\n",
      "    range: 0  -  0\n",
      "    average: 0  , standard deviation: 0\n",
      " Minimal Angle:\n",
      "    range: 0  -  0\n",
      "    average: 0  , standard deviation: 0\n",
      "\n",
      "\n",
      "Definition of the different quality measures is given\n",
      "        in the verdict library manual :\n",
      "        http://www.vtk.org/Wiki/images/6/6b/VerdictManual-revA.pdf\n",
      "\n"
     ]
    }
   ],
   "source": [
    "mymesh.print_quality()"
   ]
  },
  {
   "cell_type": "markdown",
   "id": "presidential-tactics",
   "metadata": {},
   "source": [
    "## Hydrostatics Solver\n",
    "With the Mesh loaded we can create a Hydrostatics solver and set its **c.o.g.** (center of gravity) location ($x, y, z$ in meters, relative to the model origin).\n",
    "\n",
    "We can also add a displacment (in TONS) and call `Hydrostatics.equilibrate()` to run the solver, then print the results and visualize:"
   ]
  },
  {
   "cell_type": "code",
   "execution_count": 8,
   "id": "greenhouse-immunology",
   "metadata": {
    "scrolled": false
   },
   "outputs": [
    {
     "name": "stdout",
     "output_type": "stream",
     "text": [
      "First placing the mesh at the target displacement\n",
      "-------------------------------------------------\n",
      "\n",
      "Complying with a displacement of 0.500 tons\n",
      "----------------------------------------------\n",
      "\t-> Convergence obtained after 2 iterations\n",
      "\t-> Mesh has been translated in z by: 0.132117\n",
      "\n",
      "Computing equilibrium from initial condition.\n",
      "----------------------------------------------\n",
      "Stable equilibrium reached after 6 iterations and 0 random restart\n",
      "\n",
      "\n",
      "\tGRAVITY ACCELERATION (M/S**2)----------->   9.81\n",
      "\tDENSITY OF WATER (KG/M**3)-------------->   1023.0\n",
      "\n",
      "\tWATERPLANE AREA (M**2)------------------>   3.4\n",
      "\tWATERPLANE CENTER (M)------------------->   1.556     0.062    \n",
      "\tWET AREA (M**2)------------------------->   4.6\n",
      "\tDISPLACEMENT VOLUME (M**3)-------------->   0.489\n",
      "\tDISPLACEMENT MASS (TONS)---------------->   0.500\n",
      "\tBUOYANCY CENTER (M)--------------------->  -0.000     0.000    -0.098    \n",
      "\tCENTER OF GRAVITY (M)------------------->   0.000     0.000     0.005    \n",
      "\n",
      "\tDRAUGHT (M)----------------------------->   0.359\n",
      "\tLENGTH OVERALL SUBMERGED (M)------------>   6.02\n",
      "\tBREADTH OVERALL SUBMERGED (M)----------->   1.24\n",
      "\tLENGTH AT WATERLINE LWL (M)------------->   3.66\n",
      "\tFORWARD PERPENDICULAR (M)--------------->   3.01\n",
      "\n",
      "\tTRANSVERSAL METACENTRIC RADIUS (M)------>   0.852\n",
      "\tTRANSVERSAL METACENTRIC HEIGHT GMT (M)-->   0.750\n",
      "\tLONGITUDINAL METACENTRIC RADIUS (M)----->   22.406\n",
      "\tLONGITUDINAL METACENTRIC HEIGHT GML (M)->   22.303\n",
      "\n",
      "\tHYDROSTATIC STIFFNESS COEFFICIENTS:\n",
      "\tK33 (N/M)------------------------------->   3.4366E+04\n",
      "\tK34 (N)--------------------------------->   2.1202E+03\n",
      "\tK35 (N)--------------------------------->  -5.3466E+04\n",
      "\tK44 (N.M)------------------------------->   3.6779E+03\n",
      "\tK45 (N.M)------------------------------->  -5.9011E+02\n",
      "\tK55 (N.M)------------------------------->   1.0940E+05\n",
      "\n",
      "\tINERTIAS:\n",
      "\tIXX------------------------------------->   5.749E+01\n",
      "\tIXY------------------------------------->  -2.525E+01\n",
      "\tIXZ------------------------------------->  -1.105E+01\n",
      "\tIYY------------------------------------->   2.647E+02\n",
      "\tIYZ------------------------------------->  -2.216E+00\n",
      "\tIZZ------------------------------------->   3.171E+02\n",
      "\n",
      "\tRESIDUALS:\n",
      "\tABSOLUTE-------------------------------->   2.171E-03 9.963E-03 4.570E-04\n",
      "\tRELATIVE-------------------------------->   4.426E-07 1.661E-06 2.549E-08\n",
      "\tRELATIVE TOLERANCE---------------------->   1.0E-04\n",
      "\n"
     ]
    }
   ],
   "source": [
    "mymesh = mesh.Mesh(V, F)\n",
    "hs_solver = hydrostatics.Hydrostatics(mymesh, verbose=True)\n",
    "\n",
    "disp = 0.5\n",
    "cog = (2, 0.1, 0)\n",
    "\n",
    "hs_solver.gravity_center = cog\n",
    "hs_solver.mass = disp\n",
    "hs_solver.equilibrate(init_disp=True)\n",
    "\n",
    "print(hs_solver.get_hydrostatic_report())\n",
    "\n",
    "hs_solver.show()"
   ]
  }
 ],
 "metadata": {
  "hide_input": false,
  "kernelspec": {
   "display_name": "Python 3",
   "language": "python",
   "name": "python3"
  },
  "language_info": {
   "codemirror_mode": {
    "name": "ipython",
    "version": 3
   },
   "file_extension": ".py",
   "mimetype": "text/x-python",
   "name": "python",
   "nbconvert_exporter": "python",
   "pygments_lexer": "ipython3",
   "version": "3.8.8"
  },
  "toc": {
   "base_numbering": 1,
   "nav_menu": {},
   "number_sections": true,
   "sideBar": true,
   "skip_h1_title": false,
   "title_cell": "Table of Contents",
   "title_sidebar": "Contents",
   "toc_cell": false,
   "toc_position": {},
   "toc_section_display": true,
   "toc_window_display": false
  },
  "varInspector": {
   "cols": {
    "lenName": 16,
    "lenType": 16,
    "lenVar": 40
   },
   "kernels_config": {
    "python": {
     "delete_cmd_postfix": "",
     "delete_cmd_prefix": "del ",
     "library": "var_list.py",
     "varRefreshCmd": "print(var_dic_list())"
    },
    "r": {
     "delete_cmd_postfix": ") ",
     "delete_cmd_prefix": "rm(",
     "library": "var_list.r",
     "varRefreshCmd": "cat(var_dic_list()) "
    }
   },
   "types_to_exclude": [
    "module",
    "function",
    "builtin_function_or_method",
    "instance",
    "_Feature"
   ],
   "window_display": false
  }
 },
 "nbformat": 4,
 "nbformat_minor": 5
}
